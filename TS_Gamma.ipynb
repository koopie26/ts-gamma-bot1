{
 "cells": [
  {
   "cell_type": "markdown",
   "id": "e9cb1f4b",
   "metadata": {},
   "source": [
    "# TS Gamma"
   ]
  },
  {
   "cell_type": "markdown",
   "id": "aea3280d",
   "metadata": {},
   "source": [
    "# db.py"
   ]
  },
  {
   "cell_type": "code",
   "execution_count": 1,
   "id": "449d19d6",
   "metadata": {},
   "outputs": [
    {
     "name": "stderr",
     "output_type": "stream",
     "text": [
      "2022-09-28 16:39:54.135 INFO    numexpr.utils: NumExpr defaulting to 8 threads.\n"
     ]
    }
   ],
   "source": [
    "# Import required packages\n",
    "\n",
    "from deta import Deta\n",
    "from dotenv import load_dotenv\n",
    "import os\n",
    "import streamlit as st"
   ]
  },
  {
   "cell_type": "code",
   "execution_count": 2,
   "id": "455a4066",
   "metadata": {},
   "outputs": [],
   "source": [
    "# Connect to Deta Base\n",
    "\n",
    "def connect_db():\n",
    "    if \".env\" in os.listdir():\n",
    "        env = load_dotenv(\".env\")\n",
    "        DETA_KEY = os.getenv(\"DETA_KEY\")\n",
    "    else:\n",
    "        try:\n",
    "            DETA_KEY = os.environ[\"DETA_KEY\"]\n",
    "        except KeyError:\n",
    "            DETA_KEY = st.secrets[\"DETA_KEY\"]\n",
    "    deta = Deta(DETA_KEY)\n",
    "    return deta"
   ]
  },
  {
   "cell_type": "markdown",
   "id": "2434ce20",
   "metadata": {},
   "source": [
    "# dbSetup.py "
   ]
  },
  {
   "cell_type": "code",
   "execution_count": 3,
   "id": "dbdf1dc6",
   "metadata": {},
   "outputs": [],
   "source": [
    "# Import packages\n",
    "\n",
    "from db import *\n",
    "import streamlit_authenticator as stauth\n",
    "import os"
   ]
  },
  {
   "cell_type": "code",
   "execution_count": 8,
   "id": "24a3cad7",
   "metadata": {},
   "outputs": [],
   "source": [
    "# Connect to database\n",
    "\n",
    "deta = connect_db()\n",
    "config_db = deta.Base(\"config_db\")\n",
    "users_db = deta.Base(\"users_db\")"
   ]
  },
  {
   "cell_type": "code",
   "execution_count": 9,
   "id": "2f9d5da9",
   "metadata": {},
   "outputs": [],
   "source": [
    "# Fetch existing entries in config_db and delete them\n",
    "\n",
    "# items = config_db.fetch().items\n",
    "# keys = [item['key'] for item in items]\n",
    "# for key in keys:\n",
    "#     config_db.delete(key)\n",
    "\n",
    "# Fetch existing entries in users_db and delete them\n",
    "\n",
    "# items = users_db.fetch().items\n",
    "# keys = [item['key'] for item in items]\n",
    "# for key in keys:\n",
    "#     users_db.delete(key)"
   ]
  },
  {
   "cell_type": "markdown",
   "id": "d2123dd2",
   "metadata": {},
   "source": [
    "# tradestation.py"
   ]
  },
  {
   "cell_type": "code",
   "execution_count": 44,
   "id": "930e2c24",
   "metadata": {},
   "outputs": [],
   "source": [
    "# Import required packages\n",
    "\n",
    "import datetime as dt\n",
    "from db import *\n",
    "import json\n",
    "import numpy as np\n",
    "import pandas as pd\n",
    "import pytz\n",
    "import requests"
   ]
  },
  {
   "cell_type": "code",
   "execution_count": 11,
   "id": "30eb64be",
   "metadata": {},
   "outputs": [],
   "source": [
    "# Connect to Deta-Base\n",
    "\n",
    "deta = connect_db()\n",
    "config_db = deta.Base(\"config_db\")\n",
    "ts_api = config_db.get(\"TS_API\")['value']\n",
    "ts_secret = config_db.get(\"TS_SECRET\")['value']\n",
    "ts_refresh = config_db.get(\"TS_REFRESH\")['value']\n",
    "apply_real = bool(config_db.get(\"APPLY_REAL\")['value'])"
   ]
  },
  {
   "cell_type": "code",
   "execution_count": 12,
   "id": "a44b6669",
   "metadata": {},
   "outputs": [],
   "source": [
    "# Global variables\n",
    "\n",
    "utc = pytz.timezone(\"UTC\")\n",
    "local_timezone = pytz.timezone(\"US/Central\")\n",
    "if apply_real:\n",
    "    ts_base = 'https://api.tradestation.com'\n",
    "    ts_account = config_db.get(\"TS_ACCOUNT\")['value']\n",
    "else:\n",
    "    ts_base = 'https://sim-api.tradestation.com'\n",
    "    ts_acccount = config_db.get(\"TS_SIM_EQUITY\")['value']"
   ]
  },
  {
   "cell_type": "code",
   "execution_count": null,
   "id": "429768c0",
   "metadata": {},
   "outputs": [],
   "source": []
  },
  {
   "cell_type": "code",
   "execution_count": 27,
   "id": "33e3545f",
   "metadata": {},
   "outputs": [],
   "source": [
    "# Helper functions\n",
    "\n",
    "def flatten(lst):\n",
    "    for x in lst:\n",
    "        if isinstance(x, list):\n",
    "            for x in flatten(x):\n",
    "                yield x\n",
    "        else:\n",
    "            yield x"
   ]
  },
  {
   "cell_type": "code",
   "execution_count": 83,
   "id": "2fd0924e",
   "metadata": {},
   "outputs": [],
   "source": [
    "def find_atm(lst, val):\n",
    "    lst1 = []\n",
    "    for item in lst:\n",
    "        if type(item) == str:\n",
    "            if \".\" in item:\n",
    "                item = float(item)\n",
    "            else:\n",
    "                item = int(item)\n",
    "            lst1.append(item)\n",
    "    lst = lst1\n",
    "    if type(val) == str:\n",
    "        if \".\" in val:\n",
    "            val = float(val)\n",
    "        else:\n",
    "            val = int(val)\n",
    "    arr = np.array(lst)\n",
    "    diffs = abs(arr - val)\n",
    "    mini = min(diffs)\n",
    "    idx = list(diffs).index(mini)\n",
    "    atm = lst[idx]\n",
    "    return atm"
   ]
  },
  {
   "cell_type": "code",
   "execution_count": 36,
   "id": "a32a214f",
   "metadata": {},
   "outputs": [],
   "source": [
    "# Core functions\n",
    "\n",
    "def ts_authenticate():\n",
    "    ts_refresh_data = { \n",
    "        'grant_type': 'refresh_token', \n",
    "        'client_id': ts_api, \n",
    "        'client_secret': ts_secret, \n",
    "        'refresh_token': ts_refresh \n",
    "    } \n",
    "    ts_token_url = \"https://signin.tradestation.com/oauth/token\" \n",
    "    ts_headers = {'content-type': 'application/x-www-form-urlencoded'}\n",
    "    ts_limit = 20\n",
    "    ts_limit_adj = int(ts_limit * 0.9)\n",
    "    now_time = dt.datetime.now(local_timezone)\n",
    "    config_db = connect_db().Base(\"config_db\")\n",
    "    ts_time = pd.Timestamp(config_db.get(\"TS_TIME\")['value'], tz=local_timezone)\n",
    "    minutes_since_refresh = round((now_time - ts_time).total_seconds() / 60, 2)\n",
    "    if minutes_since_refresh > ts_limit_adj:\n",
    "        r = requests.post(ts_token_url, data= ts_refresh_data, headers = ts_headers) \n",
    "        if r.status_code not in [200, 201]:\n",
    "            print(r.content)\n",
    "        ts_access_token = r.json()['access_token']\n",
    "        put_keys = [\"TS_ACCESS\", \"TS_TIME\"]\n",
    "        put_values = [ts_access_token, now_time.strftime(\"%Y-%m-%d %X\")]\n",
    "        for i in range(len(put_keys)):\n",
    "            entry = {\n",
    "                \"key\": put_keys[i],\n",
    "                \"value\": put_values[i]\n",
    "            }\n",
    "            config_db.put(entry)\n",
    "    else:\n",
    "        ts_access_token = config_db.get(\"TS_ACCESS\")['value']\n",
    "    auth_headers = {\"Authorization\": f\"Bearer {ts_access_token}\"}\n",
    "    return auth_headers"
   ]
  },
  {
   "cell_type": "code",
   "execution_count": 23,
   "id": "0b28641e",
   "metadata": {},
   "outputs": [],
   "source": [
    "def get_expirations_ts(symbol=\"SPY\"):\n",
    "    headers = ts_authenticate()\n",
    "    url = f'{ts_base}/v3/marketdata/options/expirations/{symbol}'\n",
    "    r = requests.get(url, headers = headers)\n",
    "    if r.status_code not in [200, 201]:\n",
    "        print(r.content)\n",
    "    content = json.loads(r.content)\n",
    "    if \"Expirations\" not in content:\n",
    "        print(content)\n",
    "    exps = content[\"Expirations\"]\n",
    "    exp_dates = [pd.to_datetime(exp[\"Date\"]).strftime(\"%m-%d-%Y\") for exp in exps]\n",
    "    return exp_dates"
   ]
  },
  {
   "cell_type": "code",
   "execution_count": 28,
   "id": "dd628d6a",
   "metadata": {},
   "outputs": [],
   "source": [
    "def get_strikes_ts(symbol=\"SPY\", expiration=0):\n",
    "    if not expiration:\n",
    "        expiration = get_expirations_ts(symbol)[0]\n",
    "        # expiration = \"12-17-2021\"\n",
    "    headers = ts_authenticate()\n",
    "    url = f'{ts_base}/v3/marketdata/options/strikes/{symbol}?expiration={expiration}'\n",
    "    r = requests.get(url, headers = headers)\n",
    "    if r.status_code not in [200, 201]:\n",
    "        print(r.content)\n",
    "    content = json.loads(r.content)\n",
    "    if \"Strikes\" not in content:\n",
    "        print(content)\n",
    "    strikes = list(flatten(content[\"Strikes\"]))\n",
    "    return strikes"
   ]
  },
  {
   "cell_type": "code",
   "execution_count": 38,
   "id": "bf7dd060",
   "metadata": {},
   "outputs": [],
   "source": [
    "def get_quote_ts(symbol=\"SPY\"):\n",
    "    headers = ts_authenticate()\n",
    "    url = f'{ts_base}/v3/marketdata/quotes/{symbol}'\n",
    "    r = requests.get(url, headers = headers)\n",
    "    if r.status_code not in [200, 201]:\n",
    "        print(r.content)\n",
    "    content = json.loads(r.content)\n",
    "    if 'Quotes' not in content:\n",
    "        print(content)\n",
    "    quotes = content['Quotes']\n",
    "    if len(quotes) == 1:\n",
    "        quote = quotes[0]\n",
    "    return quote"
   ]
  },
  {
   "cell_type": "code",
   "execution_count": 106,
   "id": "f2830859",
   "metadata": {},
   "outputs": [],
   "source": [
    "def get_option_ts(option_symbol=0):\n",
    "    # MSFT%20220916C305 or MSFT 220916C305\n",
    "    if not option_symbol:\n",
    "        exp = pd.to_datetime(get_expirations_ts()[0]).strftime(\"%y%m%d\")\n",
    "        atm = find_atm(get_strikes_ts(), get_quote_ts()['Last'])\n",
    "        option_symbol = f\"SPY {exp}C{atm}\"\n",
    "        print(option_symbol)\n",
    "    headers = ts_authenticate()\n",
    "    url = f'{ts_base}/v3/marketdata/stream/options/quotes'\n",
    "    querystring = {\n",
    "        \"legs[0].Symbol\": option_symbol\n",
    "    }\n",
    "    r = requests.request(\"GET\", url, headers = headers, params = querystring, stream = True)\n",
    "    for line in r.iter_lines():\n",
    "        if line:\n",
    "            line_json = json.loads(line)\n",
    "            return line_json"
   ]
  },
  {
   "cell_type": "code",
   "execution_count": 141,
   "id": "fa66dc24",
   "metadata": {},
   "outputs": [],
   "source": [
    "def get_chain_ts(symbol=\"SPY\", expiration=0, optionType=\"All\", strikeProximity=20, enableGreeks=True):\n",
    "    # optionType = All (default), Call, and Put\n",
    "    # strikeRange = All (deault), ITM, and OTM\n",
    "    if not expiration:\n",
    "        expiration = get_expirations_ts(symbol)[0]\n",
    "    headers = ts_authenticate()\n",
    "    url = f'{ts_base}/v3/marketdata/stream/options/chains/{symbol}?expiration={expiration}'\n",
    "    url = f'{url}&strikeProximity={strikeProximity}&strikeRange=All&strikeInterval=2'\n",
    "    url = f'{url}&optionType={optionType}&enableGreeks={enableGreeks}'\n",
    "    strikes = get_strikes_ts(symbol, expiration)\n",
    "    strikes2 = strikes.copy()\n",
    "    r = requests.request(\"GET\", url, headers = headers, stream=True)\n",
    "    chain = []\n",
    "    counter = 0\n",
    "    for line in r.iter_lines():\n",
    "        if len(chain) >= strikeProximity * 2:\n",
    "            for item in chain:\n",
    "                \n",
    "            return chain\n",
    "        elif line:\n",
    "            line_json = json.loads(line)\n",
    "            if \"Strikes\" in line_json:\n",
    "                strike = line_json[\"Strikes\"][0]\n",
    "                if strike in strikes2:\n",
    "                    chain.append(line_json)\n",
    "                    strikes2.remove(strike)\n",
    "                    counter += 1\n",
    "            else:\n",
    "                print(line_json)"
   ]
  },
  {
   "cell_type": "markdown",
   "id": "e96559fb",
   "metadata": {},
   "source": [
    "# app.py"
   ]
  },
  {
   "cell_type": "code",
   "execution_count": null,
   "id": "0ea5ac96",
   "metadata": {},
   "outputs": [],
   "source": []
  },
  {
   "cell_type": "code",
   "execution_count": null,
   "id": "011204e5",
   "metadata": {},
   "outputs": [],
   "source": [
    "# END"
   ]
  }
 ],
 "metadata": {
  "kernelspec": {
   "display_name": "Python 3 (ipykernel)",
   "language": "python",
   "name": "python3"
  },
  "language_info": {
   "codemirror_mode": {
    "name": "ipython",
    "version": 3
   },
   "file_extension": ".py",
   "mimetype": "text/x-python",
   "name": "python",
   "nbconvert_exporter": "python",
   "pygments_lexer": "ipython3",
   "version": "3.9.12"
  }
 },
 "nbformat": 4,
 "nbformat_minor": 5
}
